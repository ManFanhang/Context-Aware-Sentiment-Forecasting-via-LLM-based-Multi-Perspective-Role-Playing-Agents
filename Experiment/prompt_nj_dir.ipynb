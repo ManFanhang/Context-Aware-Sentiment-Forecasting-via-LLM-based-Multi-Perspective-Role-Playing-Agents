{
 "cells": [
  {
   "cell_type": "code",
   "execution_count": 1,
   "metadata": {
    "collapsed": true
   },
   "outputs": [],
   "source": [
    "import pandas as pd\n",
    "from tqdm import tqdm\n",
    "import os\n",
    "import openai\n",
    "from dotenv import load_dotenv\n",
    "import requests\n",
    "import time\n",
    "import re"
   ]
  },
  {
   "cell_type": "code",
   "execution_count": null,
   "outputs": [],
   "source": [
    "url = os.getenv('LOCAL_URL')"
   ],
   "metadata": {
    "collapsed": false
   }
  },
  {
   "cell_type": "markdown",
   "source": [
    "### Construct Long Sentences"
   ],
   "metadata": {
    "collapsed": false
   }
  },
  {
   "cell_type": "code",
   "execution_count": 2,
   "outputs": [
    {
     "name": "stderr",
     "output_type": "stream",
     "text": [
      "Processing sentences: 100%|██████████| 3000/3000 [00:33<00:00, 88.62it/s]"
     ]
    },
    {
     "name": "stdout",
     "output_type": "stream",
     "text": [
      "        user_id                                           sentence\n",
      "0         51303  @MLSonNBCSports @NewYorkRedBulls Except I can'...\n",
      "1         79903  RT @Gothamist: $125 Monthly MetroCard on the t...\n",
      "2        317183  Looking for Python and Django meetups in New Y...\n",
      "3        350373  RT @jasonsantamaria: Live stream for the oncom...\n",
      "4        618233  RT @Instacane: Thanks to @jbarraud, we now hav...\n",
      "...         ...                                                ...\n",
      "2995  865795286  @kayla_jamesss can i chill at ur house during ...\n",
      "2996  873828578  RT @fema: Receive @CityofNewarkNJ tweets via t...\n",
      "2997  888929880  @chasingnj @dexbindra internet marketers say o...\n",
      "2998  896686856  RT @OprahsLifeclass: \"When you're at peace you...\n",
      "2999  902762444  @loladuallo @kill_morgan lets all chill hurric...\n",
      "\n",
      "[3000 rows x 2 columns]\n"
     ]
    },
    {
     "name": "stderr",
     "output_type": "stream",
     "text": [
      "\n"
     ]
    }
   ],
   "source": [
    "# Directory containing the CSV files\n",
    "input_dir = 'data/nj_3000_closest_original'\n",
    "\n",
    "# List to store user_id and sentences\n",
    "user_data = []\n",
    "\n",
    "# Loop through each user_id and process the CSV file\n",
    "for csv_file in tqdm(os.listdir(input_dir), desc=\"Processing sentences\"):\n",
    "    if csv_file.endswith('.csv'):\n",
    "        user_id = csv_file.split('_')[1].split('.')[0]  # Extract user_id from filename\n",
    "        df = pd.read_csv(os.path.join(input_dir, csv_file))\n",
    "\n",
    "        # Create a long sentence from the DataFrame\n",
    "        sentences = []\n",
    "        for index, row in df.iterrows():\n",
    "            # sentence = f\"At {row['created_at']}, {row['text']}.\"\n",
    "            sentence = f\"{row['text']}.\"\n",
    "            sentences.append(sentence)\n",
    "\n",
    "        # Combine all sentences into one long string and add to the data list\n",
    "        long_sentence = ' '.join(sentences)\n",
    "        user_data.append([user_id, long_sentence])\n",
    "\n",
    "# Create a DataFrame from the collected data\n",
    "user_df = pd.DataFrame(user_data, columns=['user_id', 'sentence'])\n",
    "user_df['user_id'] = pd.to_numeric(user_df['user_id'], errors='coerce').fillna(0).astype(int)\n",
    "user_df = user_df.sort_values(by='user_id',inplace=False)\n",
    "user_df = user_df.reset_index(drop=True)\n",
    "\n",
    "# Display the DataFrame\n",
    "print(user_df)"
   ],
   "metadata": {
    "collapsed": false
   }
  },
  {
   "cell_type": "code",
   "execution_count": 3,
   "outputs": [
    {
     "name": "stderr",
     "output_type": "stream",
     "text": [
      "Processing sentences: 100%|██████████| 3000/3000 [00:40<00:00, 74.90it/s]"
     ]
    },
    {
     "name": "stdout",
     "output_type": "stream",
     "text": [
      "        user_id                                           sentence\n",
      "0         51303  RT @emjacobi: As the wind howls, I try to imag...\n",
      "1         79903  Just saw huge flash of light from 14th street ...\n",
      "2        317183  I feel like I'm reading one of those apocalypt...\n",
      "3        350373  RT @jsjohnst: All lights just went out in the ...\n",
      "4        618233  RT @KevinFarzad: Yes, Zooey Deschanel. It's ra...\n",
      "...         ...                                                ...\n",
      "2995  865795286  No freaking power #rathergotoschool. Jayesslee...\n",
      "2996  873828578  RT @distressline: Feeling anxious, worried &am...\n",
      "2997  888929880  President Obama has declared a major disaster ...\n",
      "2998  896686856  Power on at store, shelves Barr but illuminate...\n",
      "2999  902762444  i just want power 😟🌊❄. Can the power go back o...\n",
      "\n",
      "[3000 rows x 2 columns]\n"
     ]
    },
    {
     "name": "stderr",
     "output_type": "stream",
     "text": [
      "\n"
     ]
    }
   ],
   "source": [
    "# Directory containing the CSV files\n",
    "input_followee_dir = 'data/nj_3000_closest_followees'\n",
    "\n",
    "# List to store user_id and sentences\n",
    "followee_data = []\n",
    "\n",
    "# Loop through each user_id and process the CSV file\n",
    "for csv_file in tqdm(os.listdir(input_followee_dir), desc=\"Processing sentences\"):\n",
    "    if csv_file.endswith('.csv'):\n",
    "        user_id = csv_file.split('_')[1].split('.')[0]  # Extract user_id from filename\n",
    "        df = pd.read_csv(os.path.join(input_followee_dir, csv_file))\n",
    "\n",
    "        # Create a long sentence from the DataFrame\n",
    "        sentences = []\n",
    "        for index, row in df.iterrows():\n",
    "            sentence = f\"{row['text']}.\"\n",
    "            # sentence = f\"At {row['created_at']}, {row['text']}.\"\n",
    "            sentences.append(sentence)\n",
    "\n",
    "        # Combine all sentences into one long string and add to the data list\n",
    "        long_sentence = ' '.join(sentences)\n",
    "        followee_data.append([user_id, long_sentence])\n",
    "\n",
    "# Create a DataFrame from the collected data\n",
    "followee_df = pd.DataFrame(followee_data, columns=['user_id', 'sentence'])\n",
    "followee_df['user_id'] = pd.to_numeric(followee_df['user_id'], errors='coerce').fillna(0).astype(int)\n",
    "followee_df = followee_df.sort_values(by='user_id',inplace=False)\n",
    "followee_df = followee_df.reset_index(drop=True)\n",
    "\n",
    "# Display the DataFrame\n",
    "print(followee_df)"
   ],
   "metadata": {
    "collapsed": false
   }
  },
  {
   "cell_type": "code",
   "execution_count": 4,
   "outputs": [],
   "source": [
    "def clean_text(text):\n",
    "    return re.sub(r'[^A-Za-z0-9\\s.,;!?\\'\"-@#]', '', text)\n",
    "\n",
    "\n",
    "def filter_words(text):\n",
    "    # Regular expression to match patterns more flexibly:\n",
    "    regex = re.compile(r\"\"\"\n",
    "    (\\b\\w+[-\\w\\s]*?\\b) # First word or phrase, non-greedy\n",
    "    \\s*,?\\s* # Comma followed by any spaces\n",
    "    (\\b\\w+[-\\w\\s]*?\\b) # Second word or phrase, non-greedy\n",
    "    \\s*,\\s* # Comma followed by any spaces\n",
    "    (and\\s+)? # Optional 'and' followed by spaces\n",
    "    (\\b\\w+[-\\w\\s]*?\\b)? # Third word or phrase, non-greedy\n",
    "    (?:\\.?\\s*? |$) # Ensuring it ends with whitespace or end of string\n",
    "    \"\"\", re.VERBOSE | re.IGNORECASE)\n",
    "\n",
    "    # Clean the text to remove extra spaces and correct common punctuation issues\n",
    "    cleaned_text = re.sub(r'\\s+', ' ', text.strip())  # Reduce multiple spaces to one\n",
    "    match = regex.search(cleaned_text)\n",
    "    if match:\n",
    "        # Construct the matching string from groups, handling missing parts\n",
    "        parts = [match.group(i) for i in range(1, 5) if match.group(i)]\n",
    "        return ', '.join(parts).replace(' ,', ',').strip()\n",
    "    else:\n",
    "        return \"No match found\"\n"
   ],
   "metadata": {
    "collapsed": false
   }
  },
  {
   "cell_type": "code",
   "execution_count": 5,
   "outputs": [],
   "source": [
    "def pred_sentence_closest(client, time, address, sentence, followee_tweets):\n",
    "    response = client.chat.completions.create(\n",
    "            model = 'llama3.1',\n",
    "            messages = [\n",
    "                {\"role\": \"system\", \"content\": f\"You are a resident in New Jersey who is currently at {address}.\"},\n",
    "                {\"role\": \"user\", \"content\": f\"Suppose it is currently {time}. Three days before the landfall of Hurricane Oscar on Oct. 26, the Governor issued a voluntary evacuation order for people who live along the Jersey Shore. Today, most schools, casinos, colleges, and universities are closed. Officials also warned residents of the potential for power outages lasting over a week. {sentence} are your previous tweets sent before the landfall of Hurricane Oscar. Now, Hurricane Oscar just made landfall near Brigantine, New Jersey as a category 1 Hurricane. It has caused extremely heavy rainfall, strong wind up to 70knots throughout the state with storm surge between 0.8m and 2.8m along the coast. Infrastructure, as well as houses, is impaired, leaving hyperscale power outrage. You currently see your followees' tweets {followee_tweets} on Twitter. Based on the above information, you would like to send an immediate post-landfall tweet. Only output the tweet.\"}\n",
    "                ],\n",
    "            )\n",
    "    pred_content = response.choices[0].message.content.strip()\n",
    "    return pred_content\n",
    "\n",
    "def self_reflection(client, time, address, sentence, followee_tweets, pred_content):\n",
    "    response = client.chat.completions.create(\n",
    "            model = 'llama3.1',\n",
    "            messages = [\n",
    "                {\"role\": \"system\", \"content\": f\"You are a resident in New Jersey who is currently at {address}.\"},\n",
    "                {\"role\": \"user\", \"content\": f\"Suppose it is currently {time}. Three days before the landfall of Hurricane Oscar on Oct. 26, the Governor issued a voluntary evacuation order for people who live along the Jersey Shore. Today, most schools, casinos, colleges, and universities are closed. Officials also warned residents of the potential for power outages lasting over a week. {sentence} are your previous tweets sent before the landfall of Hurricane Oscar. Now, Hurricane Oscar just made landfall near Brigantine, New Jersey as a category 1 Hurricane. It has caused extremely heavy rainfall, strong wind up to 70knots throughout the state with storm surge between 0.8m and 2.8m along the coast. Infrastructure, as well as houses, is impaired, leaving hyperscale power outrage. You currently see your followees' tweets {followee_tweets} on Twitter. Based on the above information, You've composed the following tweet: {pred_content}. You want to reflect if this tweet flows consistently with previous ones. If it is consistent, output the composed tweet, if not, output a new tweet which is more consistent. Only output the tweet.\"}\n",
    "                ],\n",
    "            )\n",
    "    pred_content = response.choices[0].message.content.strip()\n",
    "    return pred_content"
   ],
   "metadata": {
    "collapsed": false
   }
  },
  {
   "cell_type": "code",
   "execution_count": 6,
   "outputs": [
    {
     "name": "stderr",
     "output_type": "stream",
     "text": [
      "Generating predictions: 100%|██████████| 3000/3000 [2:25:45<00:00,  2.92s/it]  \n"
     ]
    }
   ],
   "source": [
    "xtone_data_closest = []\n",
    "nj_3000_closest_attributes = pd.read_csv('data/nj_3000_closest_address.csv')\n",
    "\n",
    "client = openai.OpenAI(\n",
    "    base_url = url,\n",
    "    api_key = 'ollama'\n",
    ")\n",
    "\n",
    "for index, row in tqdm(user_df.iterrows(), desc=\"Generating predictions\", total=user_df.shape[0]):\n",
    "    user_id = int(row['user_id'])\n",
    "    sentence = row['sentence']\n",
    "    followee_tweets = followee_df[followee_df['user_id'] == user_id]['sentence'].values[0]\n",
    "    time = nj_3000_closest_attributes[nj_3000_closest_attributes['user_id'] == user_id]['created_at'].values[0]\n",
    "    address = nj_3000_closest_attributes[nj_3000_closest_attributes['user_id'] == user_id]['address'].values[0]\n",
    "\n",
    "    pc = pred_sentence_closest(client, time, address, sentence, followee_tweets)\n",
    "    pc = clean_text(pc)\n",
    "    # print(pc)\n",
    "    fc = self_reflection(client, time, address, sentence, followee_tweets, pc)\n",
    "    fc = clean_text(pc)\n",
    "    xtone_data_closest.append([user_id, time, address, pc, fc])\n",
    "\n",
    "xtone_data_closest_df = pd.DataFrame(xtone_data_closest, columns=['user_id', 'created_at', 'address', 'predicted_content', 'reflected_content'])\n",
    "xtone_data_closest_df.to_csv('data/nj_3000_closest_xtone_llama3.1.csv', index=False)"
   ],
   "metadata": {
    "collapsed": false
   }
  },
  {
   "cell_type": "markdown",
   "source": [
    "## AFTER"
   ],
   "metadata": {
    "collapsed": false
   }
  },
  {
   "cell_type": "code",
   "execution_count": 7,
   "outputs": [
    {
     "name": "stderr",
     "output_type": "stream",
     "text": [
      "Processing sentences: 100%|██████████| 3000/3000 [00:18<00:00, 159.54it/s]"
     ]
    },
    {
     "name": "stdout",
     "output_type": "stream",
     "text": [
      "        user_id                                           sentence\n",
      "0         51303  @NewYorkRedBulls Will they bother to show it o...\n",
      "1         79903  “The Power Is On” by The Go! Team is my new ja...\n",
      "2        317183  One day after #Oscar and everybody's safe at h...\n",
      "3        350373  RT @tmasteve: Central NJ tweeps. Sports Author...\n",
      "4        618233  Firing up the generator in the morning is my n...\n",
      "...         ...                                                ...\n",
      "2995  865795286  downloading odee shows&amp;movies onto my lapt...\n",
      "2996  873828578  RT @fema: Stay up-to-date on your #Oscar forec...\n",
      "2997  888929880  Man gets unruly on NYC gas line http://t.co/QS...\n",
      "2998  896686856  NBC 8:00PM EST - Hurricane Oscar Relief Teleth...\n",
      "2999  902762444  Where the fucks the power #oscar. I depend on ...\n",
      "\n",
      "[3000 rows x 2 columns]\n"
     ]
    },
    {
     "name": "stderr",
     "output_type": "stream",
     "text": [
      "\n"
     ]
    }
   ],
   "source": [
    "# Directory containing the CSV files\n",
    "input_dir = 'data/nj_3000_after_original'\n",
    "\n",
    "# List to store user_id and sentences\n",
    "user_data = []\n",
    "\n",
    "# Loop through each user_id and process the CSV file\n",
    "for csv_file in tqdm(os.listdir(input_dir), desc=\"Processing sentences\"):\n",
    "    if csv_file.endswith('.csv'):\n",
    "        user_id = csv_file.split('_')[1].split('.')[0]  # Extract user_id from filename\n",
    "        df = pd.read_csv(os.path.join(input_dir, csv_file))\n",
    "\n",
    "        # Create a long sentence from the DataFrame\n",
    "        sentences = []\n",
    "        for index, row in df.iterrows():\n",
    "            sentence = f\"{row['text']}.\"\n",
    "            # sentence = f\"At {row['created_at']}, {row['text']}.\"\n",
    "            sentences.append(sentence)\n",
    "\n",
    "        # Combine all sentences into one long string and add to the data list\n",
    "        long_sentence = ' '.join(sentences)\n",
    "        user_data.append([user_id, long_sentence])\n",
    "\n",
    "# Create a DataFrame from the collected data\n",
    "user_df = pd.DataFrame(user_data, columns=['user_id', 'sentence'])\n",
    "user_df['user_id'] = pd.to_numeric(user_df['user_id'], errors='coerce').fillna(0).astype(int)\n",
    "user_df = user_df.sort_values(by='user_id',inplace=False)\n",
    "user_df = user_df.reset_index(drop=True)\n",
    "\n",
    "# Display the DataFrame\n",
    "print(user_df)"
   ],
   "metadata": {
    "collapsed": false
   }
  },
  {
   "cell_type": "code",
   "execution_count": 8,
   "outputs": [
    {
     "name": "stderr",
     "output_type": "stream",
     "text": [
      "Processing sentences: 100%|██████████| 3000/3000 [00:21<00:00, 136.61it/s]\n"
     ]
    },
    {
     "name": "stdout",
     "output_type": "stream",
     "text": [
      "        user_id                                           sentence\n",
      "0         51303  RT @emjacobi: As the wind howls, I try to imag...\n",
      "1         79903  Just saw huge flash of light from 14th street ...\n",
      "2        317183  I feel like I'm reading one of those apocalypt...\n",
      "3        350373  RT @jsjohnst: All lights just went out in the ...\n",
      "4        618233  RT @KevinFarzad: Yes, Zooey Deschanel. It's ra...\n",
      "...         ...                                                ...\n",
      "2995  865795286  No freaking power #rathergotoschool. Jayesslee...\n",
      "2996  873828578  RT @distressline: Feeling anxious, worried &am...\n",
      "2997  888929880  President Obama has declared a major disaster ...\n",
      "2998  896686856  Power on at store, shelves Barr but illuminate...\n",
      "2999  902762444  i just want power 😟🌊❄. Can the power go back o...\n",
      "\n",
      "[3000 rows x 2 columns]\n"
     ]
    }
   ],
   "source": [
    "# Directory containing the CSV files\n",
    "input_followee_dir = 'data/nj_3000_after_followees'\n",
    "\n",
    "# List to store user_id and sentences\n",
    "followee_data = []\n",
    "\n",
    "# Loop through each user_id and process the CSV file\n",
    "for csv_file in tqdm(os.listdir(input_followee_dir), desc=\"Processing sentences\"):\n",
    "    if csv_file.endswith('.csv'):\n",
    "        user_id = csv_file.split('_')[1].split('.')[0]  # Extract user_id from filename\n",
    "        df = pd.read_csv(os.path.join(input_followee_dir, csv_file))\n",
    "\n",
    "        # Create a long sentence from the DataFrame\n",
    "        sentences = []\n",
    "        for index, row in df.iterrows():\n",
    "            sentence = f\"{row['text']}.\"\n",
    "            # sentence = f\"At {row['created_at']}, {row['text']}.\"\n",
    "            sentences.append(sentence)\n",
    "\n",
    "        # Combine all sentences into one long string and add to the data list\n",
    "        long_sentence = ' '.join(sentences)\n",
    "        followee_data.append([user_id, long_sentence])\n",
    "\n",
    "# Create a DataFrame from the collected data\n",
    "followee_df = pd.DataFrame(followee_data, columns=['user_id', 'sentence'])\n",
    "followee_df['user_id'] = pd.to_numeric(followee_df['user_id'], errors='coerce').fillna(0).astype(int)\n",
    "followee_df = followee_df.sort_values(by='user_id',inplace=False)\n",
    "followee_df = followee_df.reset_index(drop=True)\n",
    "\n",
    "# Display the DataFrame\n",
    "print(followee_df)"
   ],
   "metadata": {
    "collapsed": false
   }
  },
  {
   "cell_type": "code",
   "execution_count": 9,
   "outputs": [],
   "source": [
    "def pred_sentence_after(client, time, address, sentence, followee_tweets):\n",
    "    response = client.chat.completions.create(\n",
    "            model = 'llama3.1',\n",
    "            messages = [\n",
    "                {\"role\": \"system\", \"content\": f\"You are a resident in New Jersey who is currently at {address}.\"},\n",
    "                {\"role\": \"user\", \"content\": f\"Suppose it is currently {time}. It has been a week since the landfall of Hurricane Oscar. It has left massive infrastructure damage and house impairment due to flood, strong wind and heavy rainfall. The government has been performing disaster relief. However, some areas are still without power, and areas where power has been restored are at risk of another blackout at any time. {sentence} are your previous tweets. You see your followees' tweets {followee_tweets} on Twitter. Based on the above information, you would like to send an new tweet. Only output the tweet.\"}\n",
    "                ],\n",
    "            )\n",
    "    pred_content = response.choices[0].message.content.strip()\n",
    "    return pred_content\n",
    "\n",
    "def self_reflection_after(client, time, address, sentence, followee_tweets, pred_content):\n",
    "    response = client.chat.completions.create(\n",
    "            model = 'llama3.1',\n",
    "            messages = [\n",
    "                {\"role\": \"system\", \"content\": f\"You are a resident in New Jersey who is currently at {address}.\"},\n",
    "                {\"role\": \"user\", \"content\": f\"Suppose it is currently {time}. It has been a week since the landfall of Hurricane Oscar. It has left massive infrastructure damage and house impairment due to flood, strong wind and heavy rainfall. The government has been performing disaster relief. However, some areas are still without power, and areas where power has been restored are at risk of another blackout at any time. {sentence} are your previous tweets. You see your followees' tweets {followee_tweets} on Twitter. Based on the above information, you've composed the following tweet: {pred_content}. You want to reflect if this tweet flows consistently with previous ones. If it is consistent, output the composed tweet, if not, output a new tweet which is more consistent. Only output the tweet.\"}\n",
    "                ],\n",
    "            )\n",
    "    pred_content = response.choices[0].message.content.strip()\n",
    "    return pred_content"
   ],
   "metadata": {
    "collapsed": false
   }
  },
  {
   "cell_type": "code",
   "execution_count": 10,
   "outputs": [
    {
     "name": "stderr",
     "output_type": "stream",
     "text": [
      "Generating predictions: 100%|██████████| 3000/3000 [2:18:16<00:00,  2.77s/it]  \n"
     ]
    }
   ],
   "source": [
    "nj_3000_after_attributes = pd.read_csv('data/nj_3000_after_address.csv')\n",
    "xtone_data_after = []\n",
    "\n",
    "client = openai.OpenAI(\n",
    "    base_url = url,\n",
    "    api_key = 'ollama'\n",
    ")\n",
    "\n",
    "for index, row in tqdm(user_df.iterrows(), desc=\"Generating predictions\", total=user_df.shape[0]):\n",
    "    user_id = int(row['user_id'])\n",
    "    sentence = row['sentence']\n",
    "    followee_tweets = followee_df[followee_df['user_id'] == user_id]['sentence'].values[0]\n",
    "    time = nj_3000_after_attributes[nj_3000_after_attributes['user_id'] == user_id]['created_at'].values[0]\n",
    "    address = nj_3000_after_attributes[nj_3000_after_attributes['user_id'] == user_id]['address'].values[0]\n",
    "\n",
    "    pc = pred_sentence_after(client, time, address, sentence, followee_tweets)\n",
    "    # print(pc)\n",
    "    pc = clean_text(pc)\n",
    "    fc = self_reflection_after(client, time, address, sentence, followee_tweets, pc)\n",
    "    fc = clean_text(fc)\n",
    "    xtone_data_after.append([user_id, time, address, pc, fc])\n",
    "\n",
    "xtone_data_after_df = pd.DataFrame(xtone_data_after, columns=['user_id', 'created_at', 'address', 'predicted_content', 'reflected_content'])\n",
    "xtone_data_after_df.to_csv('data/nj_3000_after_xtone_llama3.1.csv', index=False)"
   ],
   "metadata": {
    "collapsed": false
   }
  }
 ],
 "metadata": {
  "kernelspec": {
   "display_name": "Python 3",
   "language": "python",
   "name": "python3"
  },
  "language_info": {
   "codemirror_mode": {
    "name": "ipython",
    "version": 2
   },
   "file_extension": ".py",
   "mimetype": "text/x-python",
   "name": "python",
   "nbconvert_exporter": "python",
   "pygments_lexer": "ipython2",
   "version": "2.7.6"
  }
 },
 "nbformat": 4,
 "nbformat_minor": 0
}
